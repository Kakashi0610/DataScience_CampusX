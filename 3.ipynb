{
 "cells": [
  {
   "cell_type": "code",
   "execution_count": 1,
   "id": "edb38e6b-d029-4782-83e1-ef72cfd13599",
   "metadata": {},
   "outputs": [],
   "source": [
    "# crap code   1/1! + 2/2! #/3! + ... n = ?\n",
    "\n",
    "# num = int(input(\"Enter the limit of sum : \"))\n",
    "\n",
    "# for i in range(1,num+1):\n",
    "#     print(i)\n",
    "#     if(i<=num):\n",
    "#         fact\n",
    "#         sum = int(i/(i))\n",
    "        \n",
    "#     else:\n",
    "#         print(\"This is the limit...\")\n",
    "\n",
    "# print(sum)"
   ]
  },
  {
   "cell_type": "code",
   "execution_count": 2,
   "id": "211266ae-102e-44ba-8cc8-c1f342a454f3",
   "metadata": {},
   "outputs": [
    {
     "name": "stdout",
     "output_type": "stream",
     "text": [
      "1 1\n",
      "1 2\n",
      "1 3\n",
      "1 4\n",
      "*\n",
      "2 1\n",
      "2 2\n",
      "2 3\n",
      "2 4\n",
      "*\n",
      "3 1\n",
      "3 2\n",
      "3 3\n",
      "3 4\n",
      "*\n",
      "4 1\n",
      "4 2\n",
      "4 3\n",
      "4 4\n",
      "*\n"
     ]
    }
   ],
   "source": [
    "# Nested Loops\n",
    "\n",
    "for i in range(1,5):\n",
    "    for j in range(1,5):\n",
    "        print(i,j)\n",
    "    print(\"*\")"
   ]
  },
  {
   "cell_type": "code",
   "execution_count": 3,
   "id": "f05e54d2-1c47-4491-9737-e8fb354d5772",
   "metadata": {},
   "outputs": [
    {
     "name": "stdout",
     "output_type": "stream",
     "text": [
      "ani kai anikai\n",
      "ani kai2 anikai2\n",
      "ani kai3 anikai3\n",
      "ani2 kai ani2kai\n",
      "ani2 kai2 ani2kai2\n",
      "ani2 kai3 ani2kai3\n",
      "ani3 kai ani3kai\n",
      "ani3 kai2 ani3kai2\n",
      "ani3 kai3 ani3kai3\n"
     ]
    }
   ],
   "source": [
    "list1 = [\"ani\",\"ani2\",\"ani3\"]\n",
    "list2 = [\"kai\",\"kai2\",\"kai3\"]\n",
    "\n",
    "for i in list1:\n",
    "    for j in list2:\n",
    "        print(i,j,i+j)"
   ]
  },
  {
   "cell_type": "code",
   "execution_count": 4,
   "id": "0f7b9301-2afd-4056-ac44-2e1936736a6c",
   "metadata": {},
   "outputs": [
    {
     "name": "stdin",
     "output_type": "stream",
     "text": [
      "Enter the number of rows :  5\n"
     ]
    },
    {
     "name": "stdout",
     "output_type": "stream",
     "text": [
      "* \n",
      "* * \n",
      "* * * \n",
      "* * * * \n",
      "* * * * * \n"
     ]
    }
   ],
   "source": [
    "#pattern 1  - my technique\n",
    "\n",
    "row = int(input(\"Enter the number of rows : \"))\n",
    "\n",
    "for i in range(1,row+1):\n",
    "    print(\"* \" * i)"
   ]
  },
  {
   "cell_type": "code",
   "execution_count": 5,
   "id": "ed47596d-a11c-4282-bb7a-d95d55b20ec9",
   "metadata": {},
   "outputs": [
    {
     "name": "stdin",
     "output_type": "stream",
     "text": [
      "Enter the number of rows :  7\n"
     ]
    },
    {
     "name": "stdout",
     "output_type": "stream",
     "text": [
      "* \n",
      "* * \n",
      "* * * \n",
      "* * * * \n",
      "* * * * * \n",
      "* * * * * * \n",
      "* * * * * * * \n"
     ]
    }
   ],
   "source": [
    "\n",
    "row = int(input(\"Enter the number of rows : \"))\n",
    "\n",
    "for i in range(1, row+1):\n",
    "    for j in range(1,i+1):\n",
    "        print(\"*\",end=\" \")\n",
    "    print()"
   ]
  },
  {
   "cell_type": "code",
   "execution_count": 6,
   "id": "88439777-3367-4c9a-828e-b40145ffb6de",
   "metadata": {},
   "outputs": [],
   "source": [
    "\n",
    "        "
   ]
  },
  {
   "cell_type": "code",
   "execution_count": 22,
   "id": "b605a0cc-128c-4172-9ba9-3cb26d4f53bb",
   "metadata": {},
   "outputs": [
    {
     "name": "stdin",
     "output_type": "stream",
     "text": [
      "Enter the last iteration :  9\n"
     ]
    },
    {
     "name": "stdout",
     "output_type": "stream",
     "text": [
      "1\n",
      "123\n",
      "12345\n",
      "1234567\n",
      "123456789\n"
     ]
    }
   ],
   "source": [
    "\n",
    "# 1\n",
    "# 123\n",
    "# 12345\n",
    "# 1234567\n",
    "# 123456789\n",
    "\n",
    "num = int(input(\"Enter the last iteration : \"))\n",
    "\n",
    "for i in range(0,num,2):\n",
    "    for j in range(1,i+2):\n",
    "        print(j,end=\"\")\n",
    "    print()\n",
    "          "
   ]
  },
  {
   "cell_type": "code",
   "execution_count": 8,
   "id": "0bc40552-282e-4bf6-8ae6-afe211c5d5c9",
   "metadata": {},
   "outputs": [
    {
     "name": "stdout",
     "output_type": "stream",
     "text": [
      "* * * * \n",
      "* * * * \n",
      "* * * * \n",
      "* * * * \n"
     ]
    }
   ],
   "source": [
    "# * * * * \n",
    "# * * * * \n",
    "# * * * * \n",
    "# * * * *\n",
    "\n",
    "for i in range(1,5):\n",
    "    for i in range(1,5):\n",
    "        print(\"*\", end=\" \")\n",
    "    print()"
   ]
  },
  {
   "cell_type": "code",
   "execution_count": 3,
   "id": "86a9ebed-e287-4e8e-be79-1b4d1f6141ae",
   "metadata": {},
   "outputs": [
    {
     "name": "stdout",
     "output_type": "stream",
     "text": [
      "7777\n",
      "\n",
      "777788\n",
      "\n",
      "777788\n",
      "\n",
      "777788\n",
      "\n",
      "\n"
     ]
    }
   ],
   "source": [
    "# 7777\n",
    "# 777788\n",
    "# 777788\n",
    "# 777788\n",
    "\n",
    "for i in range(1,5):\n",
    "    for j in range(1,5):\n",
    "            print(7,end=\"\")\n",
    "    if (j>1):\n",
    "        for k in range(0,2):\n",
    "            if(i>1):\n",
    "                print(7+1, end=\"\")\n",
    "        else:\n",
    "            print()\n",
    "        print()\n",
    "else:\n",
    "    print()"
   ]
  },
  {
   "cell_type": "code",
   "execution_count": 34,
   "id": "ec8d7cdc-3c3e-4ebb-90c9-96cb4d394039",
   "metadata": {},
   "outputs": [
    {
     "name": "stdout",
     "output_type": "stream",
     "text": [
      "1 \n",
      "1 2 1 \n",
      "1 2 3 2 1 \n",
      "1 2 3 4 3 2 1 \n"
     ]
    }
   ],
   "source": [
    " for i in range(1,5):\n",
    "        for j in range(1,i+1):\n",
    "            print(j,end=\" \")\n",
    "        for k in range(i-1,0,-1):\n",
    "            print(k,end=\" \")\n",
    "        print()"
   ]
  },
  {
   "cell_type": "code",
   "execution_count": 15,
   "id": "19091ee7-c4a2-459e-8e48-f70dc46bf633",
   "metadata": {},
   "outputs": [
    {
     "name": "stdout",
     "output_type": "stream",
     "text": [
      "1\n",
      "2\n",
      "3\n",
      "4\n",
      "6\n",
      "7\n",
      "8\n",
      "9\n"
     ]
    }
   ],
   "source": [
    "\n",
    "\n",
    "# BREAK CONTINUE and PASS\n",
    "\n",
    "for i in range(1,10):\n",
    "    if (i == 5):\n",
    "        continue\n",
    "    print(i)"
   ]
  },
  {
   "cell_type": "code",
   "execution_count": 16,
   "id": "3d08c956-e839-44f5-bca2-fdcbb9441163",
   "metadata": {},
   "outputs": [
    {
     "name": "stdout",
     "output_type": "stream",
     "text": [
      "11\n",
      "13\n",
      "17\n",
      "19\n",
      "23\n",
      "29\n",
      "31\n",
      "37\n",
      "41\n",
      "43\n",
      "47\n",
      "53\n",
      "59\n",
      "61\n",
      "67\n",
      "71\n",
      "73\n",
      "79\n",
      "83\n",
      "89\n",
      "97\n"
     ]
    }
   ],
   "source": [
    "for i in range(11,100+1):\n",
    "    for j in range(2, i):\n",
    "        if (i%j == 0):\n",
    "            break\n",
    "    else:\n",
    "        print(i)"
   ]
  },
  {
   "cell_type": "code",
   "execution_count": 46,
   "id": "8a24ccc4-e128-430a-96a3-ca91d5e73762",
   "metadata": {},
   "outputs": [
    {
     "name": "stdout",
     "output_type": "stream",
     "text": [
      "2\n",
      "3\n",
      "4\n",
      "5\n",
      "6\n",
      "7\n"
     ]
    }
   ],
   "source": [
    "# Pass - filhaal kuch use nahi, bass karke rakh rahe hai ek loop ko, tabbhi\n",
    "# loop error throw karega if kuch daala nahi loop me - isiliye pass\n",
    "\n",
    "for i in range(1,11):   # for loop wont throw an error\n",
    "    pass\n",
    "\n",
    "for j in range(1,7):\n",
    "    print(j + 1)"
   ]
  },
  {
   "cell_type": "code",
   "execution_count": 33,
   "id": "4aee2fca-0ad0-45b7-bddf-ee1176198639",
   "metadata": {
    "tags": []
   },
   "outputs": [
    {
     "name": "stdout",
     "output_type": "stream",
     "text": [
      "hello\n",
      "hello\n",
      "hello\n",
      "hello\n"
     ]
    }
   ],
   "source": [
    "# Strings \n",
    "\n",
    "str1 = 'hello'\n",
    "str2 = \"hello\"\n",
    "str3 = \"\"\"hello\"\"\"   # for multi-line strings\n",
    "str4 = '''hello'''\n",
    "\n",
    "print(str1)\n",
    "print(str2)\n",
    "print(str3)\n",
    "print(str4)"
   ]
  },
  {
   "cell_type": "code",
   "execution_count": 36,
   "id": "81a620f1-bbb5-427d-9353-f9cfdf1c55d3",
   "metadata": {},
   "outputs": [
    {
     "data": {
      "text/plain": [
       "'w'"
      ]
     },
     "execution_count": 36,
     "metadata": {},
     "output_type": "execute_result"
    }
   ],
   "source": [
    "# Positive indexing\n",
    "\n",
    "s = \"hello world\"\n",
    "s[6]"
   ]
  },
  {
   "cell_type": "code",
   "execution_count": 42,
   "id": "7a1ad171-4fa8-4b68-8800-6144f935c394",
   "metadata": {},
   "outputs": [
    {
     "name": "stdout",
     "output_type": "stream",
     "text": [
      "r\n",
      "11\n"
     ]
    }
   ],
   "source": [
    "# Negitive indexing\n",
    "\n",
    "s = \"hello world\"\n",
    "print(s[-3])\n",
    "print(len(s))"
   ]
  },
  {
   "cell_type": "code",
   "execution_count": 45,
   "id": "2821da31-8e0e-45ac-9102-1ca353d515d9",
   "metadata": {},
   "outputs": [
    {
     "name": "stdout",
     "output_type": "stream",
     "text": [
      "I love Python\n"
     ]
    }
   ],
   "source": [
    "# Slicing\n",
    "\n",
    "s = \"I love Python language\"\n",
    "print(s[0:13])"
   ]
  },
  {
   "cell_type": "code",
   "execution_count": 47,
   "id": "f0181b9d-59a9-45e7-8ce2-8d07dfcbbd46",
   "metadata": {},
   "outputs": [
    {
     "data": {
      "text/plain": [
       "'ve Python language'"
      ]
     },
     "execution_count": 47,
     "metadata": {},
     "output_type": "execute_result"
    }
   ],
   "source": [
    "s[4:]"
   ]
  },
  {
   "cell_type": "code",
   "execution_count": 48,
   "id": "e8f6069a-2a1f-44a0-9789-9d34e87026a3",
   "metadata": {},
   "outputs": [
    {
     "data": {
      "text/plain": [
       "'I love Python language'"
      ]
     },
     "execution_count": 48,
     "metadata": {},
     "output_type": "execute_result"
    }
   ],
   "source": [
    "s[:]"
   ]
  },
  {
   "cell_type": "code",
   "execution_count": 49,
   "id": "778b590e-16b5-4d6d-8388-7623cf8e4e93",
   "metadata": {},
   "outputs": [
    {
     "data": {
      "text/plain": [
       "'I love Python language'"
      ]
     },
     "execution_count": 49,
     "metadata": {},
     "output_type": "execute_result"
    }
   ],
   "source": [
    "s[::1]"
   ]
  },
  {
   "cell_type": "code",
   "execution_count": 50,
   "id": "32af9e23-46a1-468c-9837-d3a0cf40174e",
   "metadata": {},
   "outputs": [
    {
     "data": {
      "text/plain": [
       "'Ilv yhnlnug'"
      ]
     },
     "execution_count": 50,
     "metadata": {},
     "output_type": "execute_result"
    }
   ],
   "source": [
    "s[::2]"
   ]
  },
  {
   "cell_type": "code",
   "execution_count": 52,
   "id": "b45fe7e7-3e39-4657-ba50-d5539e089c12",
   "metadata": {},
   "outputs": [
    {
     "data": {
      "text/plain": [
       "'P evol '"
      ]
     },
     "execution_count": 52,
     "metadata": {},
     "output_type": "execute_result"
    }
   ],
   "source": [
    "s[7:0:-1]"
   ]
  }
 ],
 "metadata": {
  "kernelspec": {
   "display_name": "Python 3 (ipykernel)",
   "language": "python",
   "name": "python3"
  },
  "language_info": {
   "codemirror_mode": {
    "name": "ipython",
    "version": 3
   },
   "file_extension": ".py",
   "mimetype": "text/x-python",
   "name": "python",
   "nbconvert_exporter": "python",
   "pygments_lexer": "ipython3",
   "version": "3.10.8"
  }
 },
 "nbformat": 4,
 "nbformat_minor": 5
}
