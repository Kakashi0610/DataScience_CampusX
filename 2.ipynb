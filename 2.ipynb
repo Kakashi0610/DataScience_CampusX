{
 "cells": [
  {
   "cell_type": "code",
   "execution_count": null,
   "id": "7d9f55d7-e34c-492d-a8dc-ee7121fc1d2e",
   "metadata": {},
   "outputs": [],
   "source": [
    "# Arithmatic Operators\n",
    "\n",
    "print(3 + 2)\n",
    "\n",
    "print(4 - 2)\n",
    "\n",
    "print(4 * 2)\n",
    "\n",
    "print(14 / 2)\n",
    "\n",
    "print(5 // 2)   #displays quotient(but only in int, not float)\n",
    "\n",
    "print(15 % 2)\n",
    "\n",
    "print(5 ** 2)   #power of"
   ]
  },
  {
   "cell_type": "code",
   "execution_count": 9,
   "id": "d29ba966-75f7-46f8-9d9c-d372e4c49ded",
   "metadata": {},
   "outputs": [
    {
     "name": "stdout",
     "output_type": "stream",
     "text": [
      "False\n",
      "True\n",
      "True\n",
      "False\n",
      "True\n",
      "False\n"
     ]
    }
   ],
   "source": [
    "# Relational Operators\n",
    "\n",
    "print(4 > 5)\n",
    "\n",
    "print(4 < 5)\n",
    "\n",
    "print(4 <= 5)\n",
    "\n",
    "print(4 >= 5)\n",
    "\n",
    "print(5 == 5)\n",
    "\n",
    "print(5 != 5)"
   ]
  },
  {
   "cell_type": "code",
   "execution_count": 15,
   "id": "3f7c9d55-bc19-4ea1-9cd5-6fb4063678b7",
   "metadata": {},
   "outputs": [
    {
     "name": "stdout",
     "output_type": "stream",
     "text": [
      "0\n",
      "1\n",
      "1\n",
      "1\n",
      "False\n"
     ]
    }
   ],
   "source": [
    "# Logical Operators\n",
    "\n",
    "print(1 and 0)\n",
    "print(1 and 1)\n",
    "\n",
    "print(1 or 0)\n",
    "print(1 or 1)\n",
    "\n",
    "print(not 1)"
   ]
  },
  {
   "cell_type": "code",
   "execution_count": 19,
   "id": "ee446283-db3d-4edc-b5cf-481046278b9d",
   "metadata": {},
   "outputs": [
    {
     "name": "stdout",
     "output_type": "stream",
     "text": [
      "2\n",
      "3\n",
      "1\n",
      "-4\n",
      "1\n",
      "16\n"
     ]
    }
   ],
   "source": [
    "# Bitwise Operators\n",
    "\n",
    "print (2 & 3)   #bitwise and    FOR IMAGE PROCESSING and COMPUTER VISION\n",
    "\n",
    "print (2 | 3)   #bitwise or     FOR IMAGE PROCESSING and COMPUTER VISION\n",
    "\n",
    "\n",
    "print (2 ^ 3)   #Bitwise EX-OR\n",
    "\n",
    "print (~3)  # bitwise not = n ke each binary val ko opposite kar dega - 0 ko 1 and 1 ko 0 - then calculate again \n",
    "\n",
    "print (4 >> 2)  # 32 16 8 4 2 1 - left shift 4 by 2  ans:1\n",
    "\n",
    "print (4 << 2)  # 32 16 8 4 2 1 - right shift 4 by 2  ans:16"
   ]
  },
  {
   "cell_type": "code",
   "execution_count": 23,
   "id": "217b88e6-c460-4003-b786-db7cb2ee1741",
   "metadata": {},
   "outputs": [
    {
     "data": {
      "text/plain": [
       "4"
      ]
     },
     "execution_count": 23,
     "metadata": {},
     "output_type": "execute_result"
    }
   ],
   "source": [
    "# Assignment Operators\n",
    "\n",
    "a = 2   # '=' is the operator\n",
    "a += 2"
   ]
  },
  {
   "cell_type": "code",
   "execution_count": 30,
   "id": "79820ff3-5c84-4b17-b1b2-5c33b43d99e1",
   "metadata": {},
   "outputs": [
    {
     "name": "stdout",
     "output_type": "stream",
     "text": [
      "True\n",
      "True\n",
      "False\n"
     ]
    }
   ],
   "source": [
    "# Membership Operators\n",
    "\n",
    "print(\"D\" in \"Delhi\")\n",
    "\n",
    "print(\"a\" not in \"Aniket\")\n",
    "\n",
    "print(9 in [1,2,3,4,5])"
   ]
  },
  {
   "cell_type": "code",
   "execution_count": 10,
   "id": "88289b6e-bbd7-42a6-a35a-3e1ba3244a65",
   "metadata": {},
   "outputs": [
    {
     "name": "stdin",
     "output_type": "stream",
     "text": [
      "Enter your email :  aniketshinde910@gmail.com\n",
      "Enter your password :  1233\n"
     ]
    },
    {
     "name": "stdout",
     "output_type": "stream",
     "text": [
      "Password is incorret. Try again...\n"
     ]
    }
   ],
   "source": [
    "\n",
    "# IF ELSE\n",
    "\n",
    "email = input(\"Enter your email : \")\n",
    "password = input(\"Enter your password : \")\n",
    "\n",
    "if (email == \"aniketshinde910@gmail.com\"):\n",
    "    if(password == \"1234\"):\n",
    "        print(\"You are logged in!\")\n",
    "    else:\n",
    "        print(\"Password is incorret. Try again...\")\n",
    "else:\n",
    "    print(\"Sorry! Enter a valid email and password...\")"
   ]
  },
  {
   "cell_type": "code",
   "execution_count": 11,
   "id": "d31cc2c7-85f1-4691-9ac1-1a1f0477288f",
   "metadata": {},
   "outputs": [
    {
     "name": "stdin",
     "output_type": "stream",
     "text": [
      "Enter your email :  aniketshinde910@gmail.com\n",
      "Enter your password :  1234\n"
     ]
    },
    {
     "name": "stdout",
     "output_type": "stream",
     "text": [
      "You are Logged in!\n"
     ]
    }
   ],
   "source": [
    "email = input(\"Enter your email : \")\n",
    "password = input(\"Enter your password : \")\n",
    "\n",
    "if (email == \"aniketshinde910@gmail.com\") and (password == \"1234\"):\n",
    "    print(\"You are Logged in!\")\n",
    "else:\n",
    "    print(\"Sorry! Enter a valid email and password...\")"
   ]
  },
  {
   "cell_type": "code",
   "execution_count": 15,
   "id": "fbb2fbca-ea26-4bd9-abd3-baf7d9491270",
   "metadata": {},
   "outputs": [
    {
     "name": "stdin",
     "output_type": "stream",
     "text": [
      "Enter your email :  aniketshinde910@gmail.com\n",
      "Enter your password :  1111\n"
     ]
    },
    {
     "name": "stdout",
     "output_type": "stream",
     "text": [
      "Your password is incorrect... Please try again.\n"
     ]
    },
    {
     "name": "stdin",
     "output_type": "stream",
     "text": [
      "Enter the password again :  1234\n"
     ]
    },
    {
     "name": "stdout",
     "output_type": "stream",
     "text": [
      "You are Logged in!\n"
     ]
    }
   ],
   "source": [
    "email = input(\"Enter your email : \")\n",
    "password = input(\"Enter your password : \")\n",
    "\n",
    "if (email == \"aniketshinde910@gmail.com\") and (password == \"1234\"):\n",
    "    print(\"You are Logged in!\")\n",
    "    \n",
    "elif (email == \"aniketshinde910@gmail.com\") and (password != \"1234\"):\n",
    "    print(\"Your password is incorrect... Please try again.\")\n",
    "    password = input(\"Enter the password again : \")\n",
    "    if password == \"1234\":\n",
    "            print(\"You are Logged in!\")\n",
    "    else:\n",
    "            print(\"Sorry! Enter a valid email and password...\")\n",
    "else:\n",
    "    print(\"Sorry! Enter a valid email and password...\")"
   ]
  },
  {
   "cell_type": "code",
   "execution_count": 27,
   "id": "0aa98839-fb16-4163-9644-fdbe89d47df3",
   "metadata": {},
   "outputs": [
    {
     "name": "stdin",
     "output_type": "stream",
     "text": [
      "Enter the first number :  11\n",
      "Enter the second number :  11\n",
      "Enter the third number :  11\n"
     ]
    },
    {
     "name": "stdout",
     "output_type": "stream",
     "text": [
      "Enter a valid number.\n"
     ]
    }
   ],
   "source": [
    "\n",
    "# min of 3 numbers:\n",
    "\n",
    "number1 = int(input(\"Enter the first number : \"))\n",
    "number2 = int(input(\"Enter the second number : \"))\n",
    "number3 = int(input(\"Enter the third number : \"))\n",
    "\n",
    "if (number1 < number2) and (number1 < number3):\n",
    "        print(\"Number1 is the smallest.\")\n",
    "elif (number2 < number1):\n",
    "    if (number2 < number3):\n",
    "        print(\"Number 2 is the smallest.\")\n",
    "    else:\n",
    "        print(\"Number3 is the smallest.\")\n",
    "else:\n",
    "    print(\"Enter a valid number.\")"
   ]
  },
  {
   "cell_type": "code",
   "execution_count": 31,
   "id": "9d57f1c8-e92f-49b3-86d3-bf785474c377",
   "metadata": {},
   "outputs": [
    {
     "name": "stdin",
     "output_type": "stream",
     "text": [
      "Enter the first number :  1\n",
      "Enter the second number :  33\n",
      "Enter an operator: /\n"
     ]
    },
    {
     "name": "stdout",
     "output_type": "stream",
     "text": [
      "0.030303030303030304\n"
     ]
    }
   ],
   "source": [
    "# Menu driven Program:\n",
    "\n",
    "fnum = int(input(\"Enter the first number : \"))\n",
    "snum = int(input(\"Enter the second number : \"))\n",
    "operator = input(\"Enter an operator:\")\n",
    "\n",
    "if operator == \"+\":\n",
    "    print(fnum + snum)\n",
    "elif operator == \"-\":\n",
    "    print(fnum - snum)\n",
    "elif operator == \"*\":\n",
    "    print(fnum * snum)\n",
    "else:\n",
    "    print(fnum / snum)"
   ]
  },
  {
   "cell_type": "code",
   "execution_count": 17,
   "id": "f9e4d467-7422-43f8-9f40-5c3703da7dd7",
   "metadata": {},
   "outputs": [
    {
     "name": "stdin",
     "output_type": "stream",
     "text": [
      "Enter your registered name :  aniketshinde910@gmail.com\n",
      "Enter your pin 1234\n"
     ]
    },
    {
     "name": "stdout",
     "output_type": "stream",
     "text": [
      "You are Logged in!\n"
     ]
    },
    {
     "name": "stdin",
     "output_type": "stream",
     "text": [
      " Hi! How can we help you? \n",
      "    press 1 for : Pin Change\n",
      "    press 2 for : Balance Check \n",
      "    press 3 for : Withdrawal\n",
      "    press 4 for : Exit \n",
      "    Press the key :  111\n"
     ]
    }
   ],
   "source": [
    "# **** BANK ATM ****\n",
    "\n",
    "Reg_email = input(\"Enter your registered name : \")\n",
    "ATM_pin = input(\"Enter your pin\")\n",
    "\n",
    "if (Reg_email == \"aniketshinde910@gmail.com\") and (ATM_pin == \"1234\"):\n",
    "    print(\"You are Logged in!\")\n",
    "    Menu = int(input(\"\"\" Hi! How can we help you? \n",
    "    press 1 for : Pin Change\n",
    "    press 2 for : Balance Check \n",
    "    press 3 for : Withdrawal\n",
    "    press 4 for : Exit \n",
    "    Press the key : \"\"\"))\n",
    "    \n",
    "    if (Menu == 1):\n",
    "        Reg_mail = input(\"enter your existing email : \")\n",
    "        ATM_pin = int(input(\"Enter your existing pin : \"))\n",
    "        if (Reg_email == \"aniketshinde910@gmail.com\") and (ATM_pin == 1234):\n",
    "            print(\"You can now change the password\")\n",
    "            new_pin = int(input(\"Enter your new password : \"))\n",
    "            print(\"Your new pin has been changed from **** to **** successfully!\")\n",
    "        else:\n",
    "            print(\"Enter the original credentials correctly for Pin Chnage.\")\n",
    "    else:\n",
    "        print(\"Press the correct key...\")\n",
    "else:\n",
    "    print(\"Sorry! Enter a valid email and password...\")"
   ]
  },
  {
   "cell_type": "code",
   "execution_count": 24,
   "id": "1cbe0111-7c89-468b-8b43-f67006e0a129",
   "metadata": {},
   "outputs": [
    {
     "name": "stdout",
     "output_type": "stream",
     "text": [
      "6\n",
      "12.0\n",
      "3628800\n"
     ]
    }
   ],
   "source": [
    "# math module\n",
    "\n",
    "import math\n",
    "print(math.floor(6.8))\n",
    "print(math.sqrt(144))\n",
    "print(math.factorial(10))"
   ]
  },
  {
   "cell_type": "code",
   "execution_count": 33,
   "id": "094a793e-2741-488c-86f7-f185e8dd9a1d",
   "metadata": {},
   "outputs": [
    {
     "name": "stdout",
     "output_type": "stream",
     "text": [
      "['False', 'None', 'True', 'and', 'as', 'assert', 'async', 'await', 'break', 'class', 'continue', 'def', 'del', 'elif', 'else', 'except', 'finally', 'for', 'from', 'global', 'if', 'import', 'in', 'is', 'lambda', 'nonlocal', 'not', 'or', 'pass', 'raise', 'return', 'try', 'while', 'with', 'yield']\n"
     ]
    }
   ],
   "source": [
    "# keyword module\n",
    "\n",
    "import keyword\n",
    "print(keyword.kwlist)"
   ]
  },
  {
   "cell_type": "code",
   "execution_count": 28,
   "id": "269c759a-0402-4bc2-9382-02243934d7de",
   "metadata": {},
   "outputs": [
    {
     "name": "stdout",
     "output_type": "stream",
     "text": [
      "44\n"
     ]
    }
   ],
   "source": [
    "# random module\n",
    "\n",
    "import random\n",
    "print(random.randint(1,100))\n"
   ]
  },
  {
   "cell_type": "code",
   "execution_count": 30,
   "id": "ab0d36e3-f244-47bc-aa08-da60e9cd9b8c",
   "metadata": {},
   "outputs": [
    {
     "name": "stdout",
     "output_type": "stream",
     "text": [
      "2023-07-24 04:20:38.102877\n"
     ]
    }
   ],
   "source": [
    "# dateime\n",
    "\n",
    "import datetime\n",
    "print(datetime.datetime.now())"
   ]
  },
  {
   "cell_type": "code",
   "execution_count": 31,
   "id": "d6773e48-12f8-48a6-a6c0-e814e1ec75be",
   "metadata": {},
   "outputs": [
    {
     "name": "stdout",
     "output_type": "stream",
     "text": [
      "\n",
      "Please wait a moment while I gather a list of all available modules...\n",
      "\n"
     ]
    },
    {
     "name": "stderr",
     "output_type": "stream",
     "text": [
      "/opt/conda/lib/python3.10/site-packages/jupyter_server_terminals/__init__.py:8: UserWarning: Could not import submodules\n",
      "  warnings.warn(\"Could not import submodules\")\n",
      "/opt/conda/lib/python3.10/site-packages/llvmlite/llvmpy/__init__.py:3: UserWarning: The module `llvmlite.llvmpy` is deprecated and will be removed in the future.\n",
      "  warnings.warn(\n",
      "/opt/conda/lib/python3.10/pkgutil.py:92: UserWarning: The numpy.array_api submodule is still experimental. See NEP 47.\n",
      "  __import__(info.name)\n",
      "/opt/conda/lib/python3.10/site-packages/_distutils_hack/__init__.py:33: UserWarning: Setuptools is replacing distutils.\n",
      "  warnings.warn(\"Setuptools is replacing distutils.\")\n",
      "/opt/conda/lib/python3.10/pkgutil.py:92: UserWarning: viewer requires Qt\n",
      "  __import__(info.name)\n"
     ]
    },
    {
     "name": "stdout",
     "output_type": "stream",
     "text": [
      "Cython              bisect              json                requests\n",
      "IPython             bleach              json5               resource\n",
      "OpenSSL             blinker             jsonschema          rlcompleter\n",
      "PIL                 bokeh               jupyter             rpy2\n",
      "__future__          bottleneck          jupyter_client      runpy\n",
      "_abc                brotli              jupyter_core        sched\n",
      "_aix_support        bs4                 jupyter_events      scipy\n",
      "_argon2_cffi_bindings builtins            jupyter_server      seaborn\n",
      "_ast                bz2                 jupyter_server_terminals secrets\n",
      "_asyncio            cProfile            jupyter_telemetry   select\n",
      "_bisect             cached_property     jupyterhub          selectors\n",
      "_blake2             calendar            jupyterlab          send2trash\n",
      "_bootsubprocess     certifi             jupyterlab_pygments setuptools\n",
      "_bz2                certipy             jupyterlab_server   shelve\n",
      "_cffi_backend       cffi                jupyterlab_widgets  shlex\n",
      "_codecs             cgi                 jwt                 shutil\n",
      "_codecs_cn          cgitb               keyword             signal\n",
      "_codecs_hk          charset_normalizer  kiwisolver          simplegeneric\n",
      "_codecs_iso2022     chunk               lib2to3             site\n",
      "_codecs_jp          click               libmambapy          six\n",
      "_codecs_kr          cloudpickle         linecache           skimage\n",
      "_codecs_tw          cmath               llvmlite            sklearn\n",
      "_collections        cmd                 locale              smtpd\n",
      "_collections_abc    code                locket              smtplib\n",
      "_compat_pickle      codecs              logging             sndhdr\n",
      "_compression        codeop              lz4                 sniffio\n",
      "_contextvars        collections         lzma                socket\n",
      "_crypt              colorama            mailbox             socketserver\n",
      "_csv                colorsys            mailcap             socks\n",
      "_ctypes             comm                mako                sockshandler\n",
      "_ctypes_test        compileall          mamba               sortedcontainers\n",
      "_curses             concurrent          markupsafe          soupsieve\n",
      "_curses_panel       conda               marshal             spwd\n",
      "_datetime           conda_env           math                sqlalchemy\n",
      "_decimal            conda_package_handling matplotlib          sqlite3\n",
      "_distutils_hack     conda_package_streaming matplotlib_inline   sre_compile\n",
      "_elementtree        configparser        mimetypes           sre_constants\n",
      "_functools          contextlib          mistune             sre_parse\n",
      "_hashlib            contextvars         mmap                ssl\n",
      "_heapq              contourpy           modulefinder        stack_data\n",
      "_imp                copy                mpmath              stat\n",
      "_io                 copyreg             msgpack             statistics\n",
      "_json               crypt               multiprocessing     statsmodels\n",
      "_locale             cryptography        munkres             string\n",
      "_lsprof             csv                 nbclassic           stringprep\n",
      "_lzma               ctypes              nbclient            struct\n",
      "_markupbase         curl                nbconvert           subprocess\n",
      "_md5                curses              nbformat            sunau\n",
      "_multibytecodec     cycler              nest_asyncio        sympy\n",
      "_multiprocessing    cython              netrc               symtable\n",
      "_opcode             cytoolz             networkx            sys\n",
      "_operator           dask                nis                 sysconfig\n",
      "_osx_support        dataclasses         nntplib             syslog\n",
      "_pickle             datetime            notebook            tables\n",
      "_posixshmem         dateutil            notebook_shim       tabnanny\n",
      "_posixsubprocess    dbm                 ntpath              tarfile\n",
      "_py_abc             debugpy             nturl2path          tblib\n",
      "_pydecimal          decimal             numba               telnetlib\n",
      "_pyio               decorator           numbers             tempfile\n",
      "_pyrsistent_version defusedxml          numexpr             terminado\n",
      "_queue              difflib             numpy               termios\n",
      "_random             dill                oauthlib            test\n",
      "_rinterface_cffi_abi dis                 opcode              test_pycosat\n",
      "_rinterface_cffi_api distributed         openpyxl            textwrap\n",
      "_ruamel_yaml        distutils           operator            this\n",
      "_sha1               doctest             optparse            threading\n",
      "_sha256             email               os                  threadpoolctl\n",
      "_sha3               encodings           ossaudiodev         tifffile\n",
      "_sha512             ensurepip           packaging           time\n",
      "_signal             entrypoints         pamela              timeit\n",
      "_sitebuiltins       enum                pandas              tinycss2\n",
      "_socket             errno               pandocfilters       tkinter\n",
      "_sqlite3            et_xmlfile          parso               tlz\n",
      "_sre                executing           partd               token\n",
      "_ssl                fastjsonschema      pathlib             tokenize\n",
      "_stat               faulthandler        patsy               tomli\n",
      "_statistics         fcntl               pdb                 toolz\n",
      "_string             filecmp             pexpect             tornado\n",
      "_strptime           fileinput           pickle              tqdm\n",
      "_struct             flit_core           pickleshare         trace\n",
      "_symtable           fnmatch             pickletools         traceback\n",
      "_sysconfigdata__linux_x86_64-linux-gnu fontTools           pip                 tracemalloc\n",
      "_sysconfigdata_x86_64_conda_cos6_linux_gnu fractions           pipes               traitlets\n",
      "_sysconfigdata_x86_64_conda_linux_gnu fsspec              pkg_resources       tty\n",
      "_testbuffer         ftplib              pkgutil             turtle\n",
      "_testcapi           functools           pkgutil_resolve_name turtledemo\n",
      "_testimportmultiple gc                  platform            types\n",
      "_testinternalcapi   genericpath         platformdirs        typing\n",
      "_testmultiphase     getopt              plistlib            typing_extensions\n",
      "_thread             getpass             pluggy              tzdata\n",
      "_threading_local    gettext             poplib              tzlocal\n",
      "_tkinter            glob                posix               unicodedata\n",
      "_tracemalloc        gmpy2               posixpath           unicodedata2\n",
      "_uuid               graphlib            pprint              unittest\n",
      "_warnings           greenlet            profile             urllib\n",
      "_weakref            grp                 prometheus_client   urllib3\n",
      "_weakrefset         gzip                prompt_toolkit      uu\n",
      "_xxsubinterpreters  h5py                pstats              uuid\n",
      "_xxtestfuzz         hashlib             psutil              venv\n",
      "_yaml               heapdict            pty                 warnings\n",
      "_zoneinfo           heapq               ptyprocess          wave\n",
      "abc                 hmac                pure_eval           wcwidth\n",
      "aifc                html                pvectorc            weakref\n",
      "alembic             http                pwd                 webbrowser\n",
      "altair              idlelib             py_compile          webencodings\n",
      "antigravity         idna                pyclbr              websocket\n",
      "anyio               imagecodecs         pycosat             wheel\n",
      "argon2              imageio             pycparser           widgetsnbextension\n",
      "argparse            imaplib             pycurl              wsgiref\n",
      "array               imghdr              pydoc               xdrlib\n",
      "ast                 imp                 pydoc_data          xlrd\n",
      "asttokens           importlib           pyexpat             xml\n",
      "async_generator     importlib_metadata  pygments            xmlrpc\n",
      "asynchat            importlib_resources pylab               xxlimited\n",
      "asyncio             inspect             pyparsing           xxlimited_35\n",
      "asyncore            io                  pyrsistent          xxsubtype\n",
      "atexit              ipaddress           pythonjsonlogger    xyzservices\n",
      "attr                ipykernel           pytz                yaml\n",
      "attrs               ipykernel_launcher  pytz_deprecation_shim zict\n",
      "audioop             ipympl              pywt                zipapp\n",
      "babel               ipython_genutils    pyximport           zipfile\n",
      "backcall            ipywidgets          queue               zipimport\n",
      "backports           isympy              quopri              zipp\n",
      "base64              itertools           random              zlib\n",
      "bdb                 jedi                re                  zmq\n",
      "binascii            jinja2              readline            zoneinfo\n",
      "binhex              joblib              reprlib             zstandard\n",
      "\n",
      "Enter any module name to get more help.  Or, type \"modules spam\" to search\n",
      "for modules whose name or summary contain the string \"spam\".\n",
      "\n"
     ]
    },
    {
     "name": "stderr",
     "output_type": "stream",
     "text": [
      "/opt/conda/lib/python3.10/pkgutil.py:107: VisibleDeprecationWarning: zmq.eventloop.minitornado is deprecated in pyzmq 14.0 and will be removed.\n",
      "    Install tornado itself to use zmq with the tornado IOLoop.\n",
      "    \n",
      "  yield from walk_packages(path, info.name+'.', onerror)\n"
     ]
    }
   ],
   "source": [
    "help(\"modules\")"
   ]
  },
  {
   "cell_type": "code",
   "execution_count": 2,
   "id": "cdf91e3d-d00d-4929-b9ef-8d529d3d1e60",
   "metadata": {},
   "outputs": [
    {
     "name": "stdin",
     "output_type": "stream",
     "text": [
      "Enter a number :  11\n"
     ]
    },
    {
     "name": "stdout",
     "output_type": "stream",
     "text": [
      "11 * 1 = 11\n",
      "11 * 2 = 22\n",
      "11 * 3 = 33\n",
      "11 * 4 = 44\n",
      "11 * 5 = 55\n",
      "11 * 6 = 66\n",
      "11 * 7 = 77\n",
      "11 * 8 = 88\n",
      "11 * 9 = 99\n",
      "11 * 10 = 110\n"
     ]
    }
   ],
   "source": [
    "\n",
    "# LOOPS\n",
    "'''\n",
    "1. WHILE loop\n",
    "2. FOR loop\n",
    "'''\n",
    "\n",
    "# WHILE LOOP: \n",
    "\n",
    "number = int(input(\"Enter a number : \"))\n",
    "i = 1\n",
    "while i<11:\n",
    "    print(number,\"*\",i,\"=\",number * i)\n",
    "    i = i + 1"
   ]
  },
  {
   "cell_type": "code",
   "execution_count": 5,
   "id": "efb0c5cb-b6a9-432b-a75d-eea8d8500b3f",
   "metadata": {},
   "outputs": [
    {
     "name": "stdout",
     "output_type": "stream",
     "text": [
      "1\n",
      "2\n",
      "3\n",
      "4\n",
      "5\n",
      "6\n",
      "7\n",
      "8\n",
      "9\n",
      "10\n",
      "11\n",
      "12\n",
      "13\n",
      "limit crossed.\n"
     ]
    }
   ],
   "source": [
    "\n",
    "# WHILE LOOP with else : \n",
    "\n",
    "x = 1 \n",
    "\n",
    "while x <= 13:\n",
    "    print(x)\n",
    "    x +=1\n",
    "else:\n",
    "    print(\"limit crossed.\")"
   ]
  },
  {
   "cell_type": "code",
   "execution_count": 4,
   "id": "0f418815-fc19-47ae-90d1-64c3013adb51",
   "metadata": {},
   "outputs": [
    {
     "name": "stdin",
     "output_type": "stream",
     "text": [
      "Enter the guess :  11\n"
     ]
    },
    {
     "name": "stdout",
     "output_type": "stream",
     "text": [
      "Wrong! Guess higher...\n"
     ]
    },
    {
     "name": "stdin",
     "output_type": "stream",
     "text": [
      "Guess again :  70\n"
     ]
    },
    {
     "name": "stdout",
     "output_type": "stream",
     "text": [
      "Wrong! Guess higher...\n"
     ]
    },
    {
     "name": "stdin",
     "output_type": "stream",
     "text": [
      "Guess again :  80\n"
     ]
    },
    {
     "name": "stdout",
     "output_type": "stream",
     "text": [
      "Wrong! Guess higher...\n"
     ]
    },
    {
     "name": "stdin",
     "output_type": "stream",
     "text": [
      "Guess again :  90\n"
     ]
    },
    {
     "name": "stdout",
     "output_type": "stream",
     "text": [
      "Wrong! Guess lower...\n"
     ]
    },
    {
     "name": "stdin",
     "output_type": "stream",
     "text": [
      "Guess again :  82\n"
     ]
    },
    {
     "name": "stdout",
     "output_type": "stream",
     "text": [
      "Wrong! Guess higher...\n"
     ]
    },
    {
     "name": "stdin",
     "output_type": "stream",
     "text": [
      "Guess again :  84\n"
     ]
    },
    {
     "name": "stdout",
     "output_type": "stream",
     "text": [
      "Wrong! Guess lower...\n"
     ]
    },
    {
     "name": "stdin",
     "output_type": "stream",
     "text": [
      "Guess again :  83\n"
     ]
    },
    {
     "name": "stdout",
     "output_type": "stream",
     "text": [
      "Correct guess!\n",
      "The number of attempts required were :  7\n"
     ]
    }
   ],
   "source": [
    "# Guessing game\n",
    "\n",
    "import random\n",
    "jackpot = random.randint(1,100)\n",
    "\n",
    "guess = int(input(\"Enter the guess : \"))\n",
    "attempt = 1\n",
    "\n",
    "while guess != jackpot:\n",
    "    if guess < jackpot:\n",
    "        print(\"Wrong! Guess higher...\")\n",
    "    else:\n",
    "        print(\"Wrong! Guess lower...\")\n",
    "    guess = int(input(\"Guess again : \"))\n",
    "    attempt += 1\n",
    "\n",
    "else:\n",
    "    print(\"Correct guess!\")\n",
    "    print(\"The number of attempts required were : \", attempt)"
   ]
  },
  {
   "cell_type": "code",
   "execution_count": 10,
   "id": "5d7e7af5-299f-4785-b650-e1937c62330c",
   "metadata": {},
   "outputs": [
    {
     "name": "stdout",
     "output_type": "stream",
     "text": [
      "10\n",
      "9\n",
      "8\n",
      "7\n",
      "6\n",
      "5\n",
      "4\n",
      "3\n",
      "2\n",
      "1\n"
     ]
    }
   ],
   "source": [
    "\n",
    "\n",
    "# FOR LOOP\n",
    "\n",
    "for i in range(10,0,-1):\n",
    "    print(i)\n"
   ]
  },
  {
   "cell_type": "code",
   "execution_count": 12,
   "id": "4833dfc8-4ebb-4cca-b5ac-1c6dc06b4ea4",
   "metadata": {},
   "outputs": [
    {
     "name": "stdout",
     "output_type": "stream",
     "text": [
      "D\n",
      "e\n",
      "l\n",
      "h\n",
      "i\n"
     ]
    }
   ],
   "source": [
    "for i in \"Delhi\":\n",
    "    print(i)"
   ]
  },
  {
   "cell_type": "code",
   "execution_count": 13,
   "id": "3e470e98-5234-4d68-a265-318e2d08e02f",
   "metadata": {},
   "outputs": [
    {
     "name": "stdout",
     "output_type": "stream",
     "text": [
      "11\n",
      "22\n",
      "33\n",
      "44\n",
      "55\n",
      "66\n",
      "77\n"
     ]
    }
   ],
   "source": [
    "for i in [11,22,33,44,55,66,77]:\n",
    "    print(i)"
   ]
  },
  {
   "cell_type": "code",
   "execution_count": 7,
   "id": "f70cc634-38b4-4b8a-91be-25ecd0047fe7",
   "metadata": {},
   "outputs": [
    {
     "name": "stdout",
     "output_type": "stream",
     "text": [
      "The current population is 10000.\n",
      "year 1 : The population decreased before  1  year is :  909\n",
      "The total population before  1 year was :  9090\n",
      "year 2 : The population decreased before  2  year is :  826\n",
      "The total population before  2 year was :  8264\n",
      "year 3 : The population decreased before  3  year is :  751\n",
      "The total population before  3 year was :  7513\n",
      "year 4 : The population decreased before  4  year is :  683\n",
      "The total population before  4 year was :  6830\n",
      "year 5 : The population decreased before  5  year is :  620\n",
      "The total population before  5 year was :  6209\n",
      "year 6 : The population decreased before  6  year is :  564\n",
      "The total population before  6 year was :  5644\n",
      "year 7 : The population decreased before  7  year is :  513\n",
      "The total population before  7 year was :  5131\n",
      "year 8 : The population decreased before  8  year is :  466\n",
      "The total population before  8 year was :  4665\n",
      "year 9 : The population decreased before  9  year is :  424\n",
      "The total population before  9 year was :  4240\n",
      "year 10 : The population decreased before  10  year is :  385\n",
      "The total population before  10 year was :  3855\n"
     ]
    }
   ],
   "source": [
    "\n",
    "# FOR loop examples:\n",
    "\n",
    "\n",
    "population = 10000\n",
    "print(\"The current population is 10000.\")\n",
    "for i in range(1,11):\n",
    "    diff = ((population*10)/110)\n",
    "    print(\"year\",i,\": The population decreased before \",i,\" year is : \",int(diff))\n",
    "    population = population - diff\n",
    "    print(\"The total population before \",i,\"year was : \", int(population))\n",
    "    "
   ]
  },
  {
   "cell_type": "code",
   "execution_count": null,
   "id": "5eebc16c-b6c6-4794-b2fb-db2fb407fb3d",
   "metadata": {},
   "outputs": [],
   "source": []
  }
 ],
 "metadata": {
  "kernelspec": {
   "display_name": "Python 3 (ipykernel)",
   "language": "python",
   "name": "python3"
  },
  "language_info": {
   "codemirror_mode": {
    "name": "ipython",
    "version": 3
   },
   "file_extension": ".py",
   "mimetype": "text/x-python",
   "name": "python",
   "nbconvert_exporter": "python",
   "pygments_lexer": "ipython3",
   "version": "3.10.8"
  }
 },
 "nbformat": 4,
 "nbformat_minor": 5
}
