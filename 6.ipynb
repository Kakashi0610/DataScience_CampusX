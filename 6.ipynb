{
 "cells": [
  {
   "cell_type": "code",
   "execution_count": 10,
   "id": "310b2eaf-ea27-42f3-856a-caf1ca9a2515",
   "metadata": {},
   "outputs": [
    {
     "name": "stdout",
     "output_type": "stream",
     "text": [
      "1 is odd\n",
      "2 is Even\n",
      "3 is odd\n",
      "4 is Even\n",
      "5 is odd\n",
      "6 is Even\n",
      "7 is odd\n",
      "8 is Even\n",
      "9 is odd\n",
      "10 is Even\n"
     ]
    }
   ],
   "source": [
    "# Functions\n",
    "\n",
    "\"\"\"\n",
    "tip : function banate time () bracket ke andar vle variable ko Paramter kehte hai, and jab function call karte ho tabb paramter \n",
    "ke jagah argument bann jaata hai\n",
    "\"\"\"\n",
    "    \n",
    "    \n",
    "def is_odd(num):\n",
    "    \"\"\"\n",
    "    function returns if given int is odd or even\n",
    "    input - any valid integer\n",
    "    output -  odd or even\n",
    "    created on - 24/8/23\n",
    "    \"\"\"\n",
    "    if num % 2 == 0:\n",
    "        return(\"Even\")\n",
    "    else:\n",
    "        return(\"odd\")\n",
    "\n",
    "for i in range(1,11):\n",
    "    x = is_odd(i)\n",
    "    print(i,\"is\",x)"
   ]
  },
  {
   "cell_type": "code",
   "execution_count": 17,
   "id": "5ff9b152-48e7-4df6-acb7-974df4e51b0a",
   "metadata": {},
   "outputs": [
    {
     "name": "stdout",
     "output_type": "stream",
     "text": [
      "Default para : 27\n",
      "Positional para : 27\n",
      "Keyword para : 16\n"
     ]
    }
   ],
   "source": [
    "\"\"\" Types of Arguments\n",
    "\n",
    "1. Default Argument = gives default values to fill the gaps in arguments if values not passed. Saves Errors.\n",
    "\n",
    "2. Positional Argument = jis position me aap parameters pass karte ho, ussi pattern me args assign hote hai parameters ko.\n",
    "(a,b)(5,7) - a ko 5 he pass hoga aur b ko 7, they can't be inter-changed.\n",
    "\n",
    "3. Keyword Argument = we pass the parameters with the args in the function within the body of code, if number of parameters are more \n",
    "and we forget their positions (c at first, b at last, a at middle... and so on). Parameter variables and Argument variables should be same. \n",
    "BASS NAAM YAAD RAKHO PARAMETER KA, AND THEN USKO ARGUMENT BANAO VALUE ASSIGN KARKE...\n",
    "\n",
    "\"\"\"\n",
    "\n",
    "#DEFAULT\n",
    "def power(a=1,b=1):  # default argument\n",
    "    c = a**b\n",
    "    return c\n",
    "power = power(3,3)\n",
    "print(\"Default para :\",power)\n",
    "\n",
    "\n",
    "#POSITIONAL\n",
    "def power(a,b):\n",
    "    c = a**b\n",
    "    return c\n",
    "power = power(3,3)\n",
    "print(\"Positional para :\",power)\n",
    "\n",
    "\n",
    "#KEYWORD\n",
    "def power(a=3, b=6):\n",
    "    c = a**b\n",
    "    return c\n",
    "power = power(a=2, b=4)\n",
    "print(\"Keyword para :\",power)"
   ]
  },
  {
   "cell_type": "code",
   "execution_count": 2,
   "id": "e689bf19-a19f-4b2a-b5cf-cb7974aa7308",
   "metadata": {},
   "outputs": [
    {
     "name": "stdin",
     "output_type": "stream",
     "text": [
      "Enter a number: 33\n"
     ]
    },
    {
     "name": "stdout",
     "output_type": "stream",
     "text": [
      "odd\n"
     ]
    }
   ],
   "source": [
    "# odd or even\n",
    "\n",
    "\n",
    "def even_odd(num1):\n",
    "    if num1 % 2 == 0:\n",
    "        return(\"even\")\n",
    "    else:\n",
    "        return(\"odd\")\n",
    "\n",
    "num = int(input(\"Enter a number:\"))\n",
    "ans = even_odd(num)\n",
    "print(ans)"
   ]
  },
  {
   "cell_type": "code",
   "execution_count": 6,
   "id": "29acd75f-37aa-4834-9f59-4236a5230749",
   "metadata": {},
   "outputs": [
    {
     "name": "stdin",
     "output_type": "stream",
     "text": [
      "Enter a number: 111\n"
     ]
    },
    {
     "name": "stdout",
     "output_type": "stream",
     "text": [
      "111\n"
     ]
    }
   ],
   "source": [
    "# number adding itself once\n",
    "\n",
    "def addon(num):\n",
    "    if num <= 100:\n",
    "        num = num + 10\n",
    "        return num\n",
    "    else:\n",
    "        return num\n",
    "\n",
    "num = int(input(\"Enter a number:\"))\n",
    "num1 = addon(num)\n",
    "print(num1)"
   ]
  },
  {
   "cell_type": "code",
   "execution_count": 32,
   "id": "a58bb59d-4dbb-4f42-993f-919b61b62344",
   "metadata": {},
   "outputs": [
    {
     "name": "stdout",
     "output_type": "stream",
     "text": [
      "1 is odd\n",
      "2 is even\n",
      "3 is odd\n",
      "4 is even\n"
     ]
    }
   ],
   "source": [
    "# 1 to 10 Even Odd\n",
    "\n",
    "def even_odd(num):\n",
    "    if num % 2 == 0:\n",
    "        return(\"even\")\n",
    "    else:\n",
    "        return(\"odd\")\n",
    "\n",
    "for i in range(1,5):\n",
    "    num1 = even_odd(i)\n",
    "    print(i,\"is\",num1)"
   ]
  },
  {
   "cell_type": "code",
   "execution_count": 6,
   "id": "4177e339-3efa-4e4a-853f-15483101a6fa",
   "metadata": {},
   "outputs": [
    {
     "name": "stdout",
     "output_type": "stream",
     "text": [
      "20\n"
     ]
    }
   ],
   "source": [
    "# using keyword arguments\n",
    "\n",
    "def add(num1 = 10, num2 = 15):\n",
    "    num3 = num1 + num2\n",
    "    return(num3)\n",
    "\n",
    "add_val = add(num1 = 5)\n",
    "print(add_val)  # 20 - it will consider num2 as default parameter"
   ]
  },
  {
   "cell_type": "code",
   "execution_count": 14,
   "id": "ed9c0e10-f3a6-4f9f-bd78-542c217c949d",
   "metadata": {},
   "outputs": [
    {
     "name": "stdout",
     "output_type": "stream",
     "text": [
      "720\n",
      "309\n"
     ]
    }
   ],
   "source": [
    "\n",
    "# *args and **kwrgs\n",
    "# these are special python keywords which are used to pass N number of arguments to a function.\n",
    "\n",
    "def multiply(*args):\n",
    "    product = 1\n",
    "    for i in args:\n",
    "        product = product * i\n",
    "    return (product)\n",
    "\n",
    "ans = multiply(1,2,3,4,5,6)\n",
    "print(ans)  #720\n",
    "\n",
    "# WE CAN NAME ANYTHING TO ARGS LIKE SALMAN, NICK,.... ANYTHING\n",
    "\n",
    "def addi(*salman):\n",
    "    '''\n",
    "    used to add n number of values as arguments\n",
    "    created on 16/9/23\n",
    "    '''\n",
    "    value = 1\n",
    "    for i in salman:\n",
    "        value = value + i\n",
    "    return value\n",
    "    \n",
    "Value = addi(11,22,33,44,55,66,77)\n",
    "print(Value) #309 "
   ]
  },
  {
   "cell_type": "code",
   "execution_count": 15,
   "id": "857d8c7c-d186-4320-8cf6-a596074ee9af",
   "metadata": {},
   "outputs": [
    {
     "data": {
      "text/plain": [
       "'\\n    used to add n number of values as arguments\\n    created on 16/9/23\\n    '"
      ]
     },
     "execution_count": 15,
     "metadata": {},
     "output_type": "execute_result"
    }
   ],
   "source": [
    "addi.__doc__"
   ]
  },
  {
   "cell_type": "code",
   "execution_count": 28,
   "id": "398983bb-85cb-413d-84d1-98185d4324b5",
   "metadata": {},
   "outputs": [
    {
     "name": "stdout",
     "output_type": "stream",
     "text": [
      "india -> Delhi\n",
      "srilanka -> Colombo\n",
      "pakistan -> islamabad\n",
      "\n",
      "india -> Delhi\n",
      "srilanka -> Colombo\n",
      "pakistan -> islamabad\n",
      "\n"
     ]
    }
   ],
   "source": [
    "# **kwargs - uses Keywords as an argument (key - value) pair luike dictionary\n",
    "\n",
    "def display(**kwargs):\n",
    "    for key,val in kwargs.items():   # Mandatory to use .items() to call the key-val of dict\n",
    "        print(key,\"->\",val)\n",
    "        \n",
    "display = display(india=\"Delhi\", srilanka=\"Colombo\", pakistan=\"islamabad\\n\")\n",
    "\n",
    "\n",
    "def display(**kwargs):\n",
    "    for ajay,atul in kwargs.items():   # ajay atul is keys and values pair\n",
    "        print(ajay,\"->\",atul)\n",
    "        \n",
    "display = display(india=\"Delhi\", srilanka=\"Colombo\", pakistan=\"islamabad\\n\")"
   ]
  },
  {
   "cell_type": "code",
   "execution_count": null,
   "id": "42abb5b0-8883-4c97-8410-894bfa6e7788",
   "metadata": {},
   "outputs": [],
   "source": [
    "# Difference between PRINT and RETURN\n",
    "\n",
    "''' jab aap ye code runn karte ho tabb...\n",
    "\n",
    "def even_odd(num):\n",
    "    if num % 2 == 0:\n",
    "        print(\"even\")\n",
    "    else:\n",
    "        print(\"odd\")\n",
    "\n",
    "for i in range(1,5):\n",
    "    num1 = even_odd(i)\n",
    "    print(i,\"is\",num1)\n",
    "    \n",
    "OUTPUT will be :\n",
    "\n",
    "odd\n",
    "1 is None\n",
    "even\n",
    "2 is None\n",
    "odd\n",
    "3 is None\n",
    "even\n",
    "4 is None\n",
    "\n",
    "\n",
    "YE OUTPUT NAHI HOGA:\n",
    "\n",
    "1 is odd\n",
    "2 is even\n",
    "3 is odd\n",
    "4 is even\n",
    "\n",
    "\n",
    "WHY is that?\n",
    "- because print kya karta hai ki, value store karke nahi rakhta answer ka, direct print kar deta hai.\n",
    "upar ke case me jabb bhi answer odd ya even aya, Function me PRINT honeyy ke kaaran, direct answer print ho gaya.\n",
    "\n",
    "Jab bhi koi function execute hoga, uska value, Return ke dwara aayega, par yahan toph func me return tha he nahi.\n",
    "Issiliye default function return statement aya None.\n",
    "print(i,\"is\",num1) -- since num1 didnthave any return statement, usne odd ya even nahi print kiya, none print kiya.\n",
    "''' \n"
   ]
  },
  {
   "cell_type": "code",
   "execution_count": null,
   "id": "96e1b60b-980f-4150-9b96-68893241a1ce",
   "metadata": {},
   "outputs": [],
   "source": [
    "# VARIABLE SCOPE\n",
    "'''\n",
    "Local variable = are the variables within the Function. Unko global variables me use nahi kar sakte. \n",
    " \n",
    "Global Variabe = are the variables in the main code. Unko local variable me use kar sakte hai.\n",
    "'''"
   ]
  },
  {
   "cell_type": "code",
   "execution_count": 34,
   "id": "08d45908-948e-452c-b8d3-8e46362a9137",
   "metadata": {},
   "outputs": [
    {
     "name": "stdout",
     "output_type": "stream",
     "text": [
      "5\n",
      "6\n",
      "5\n"
     ]
    }
   ],
   "source": [
    "# 1\n",
    "\n",
    "def g(y):\n",
    "    print(x)\n",
    "    print(x+1) \n",
    "x = 5\n",
    "g(x)\n",
    "print(x)\n",
    "\n",
    "\n",
    "# 1. first line se interpreter def ko ignore maarke jayega main code ki taraf\n",
    "# 2. x = 5 \n",
    "# 3. g(x) ke life jayega and dekhega function g() hai ki nahi\n",
    "# 4. First line pe mila, usko khodega\n",
    "# 5. print(x) - abb local me x var toh nahi hai, issloye global me dhoondega.\n",
    "# 6. Global me x = 5 mila\n",
    "# 7. print(x) jisse milega OP 5\n",
    "# 8. print(x + 1) OP hoga 6\n",
    "# 9. g(x) khatam hua, abb nicha ka line\n",
    "# 10. print(x), abb code local toh refer karega nahi since 10000 functions honge jinke values X var ke liye alag honge, so global wala refer hoga.\n",
    "# 11. print hoga OP 5\n",
    "# 12. Answer will be 5\\n 6\\n 5\n"
   ]
  },
  {
   "cell_type": "code",
   "execution_count": 1,
   "id": "fa859a5d-7003-4439-bd99-4f3baa146b8a",
   "metadata": {},
   "outputs": [
    {
     "name": "stdout",
     "output_type": "stream",
     "text": [
      "I am inside function g()\n",
      "I am inside function f()\n"
     ]
    },
    {
     "data": {
      "text/plain": [
       "'\\n1. sees def and jumps to main code\\n2. f() in the main code\\n3. goes to function f()\\n4. nested g()\\n5. ignores def g(), dorps to the main code in f()\\n6. g(), goes into it\\n7. print(inside g())\\n8. print(inside f())\\n'"
      ]
     },
     "execution_count": 1,
     "metadata": {},
     "output_type": "execute_result"
    }
   ],
   "source": [
    "# NESTED FUNCTIONS\n",
    "\n",
    "def f():\n",
    "    def g():\n",
    "        print(\"I am inside function g()\")\n",
    "    g()\n",
    "    print(\"I am inside function f()\")\n",
    "f()\n",
    "\n",
    "\n",
    "# STEP WISE EXECUTION\n",
    "\n",
    "# 1. sees def and jumps to main code\n",
    "# 2. f() in the main code\n",
    "# 3. goes to function f()\n",
    "# 4. nested g()\n",
    "# 5. ignores def g(), dorps to the main code in f()\n",
    "# 6. g(), goes into it\n",
    "# 7. print(inside g())\n",
    "# 8. print(inside f())\n",
    "\n",
    "\n",
    "# OUTPUT\n",
    "\n",
    "# I am inside function g()\n",
    "# I am inside function f()"
   ]
  },
  {
   "cell_type": "code",
   "execution_count": null,
   "id": "c3347e15-812f-40a2-8227-238ed4674f83",
   "metadata": {},
   "outputs": [],
   "source": []
  }
 ],
 "metadata": {
  "kernelspec": {
   "display_name": "Python 3 (ipykernel)",
   "language": "python",
   "name": "python3"
  },
  "language_info": {
   "codemirror_mode": {
    "name": "ipython",
    "version": 3
   },
   "file_extension": ".py",
   "mimetype": "text/x-python",
   "name": "python",
   "nbconvert_exporter": "python",
   "pygments_lexer": "ipython3",
   "version": "3.10.8"
  }
 },
 "nbformat": 4,
 "nbformat_minor": 5
}
