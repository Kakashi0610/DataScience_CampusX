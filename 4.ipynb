{
 "cells": [
  {
   "cell_type": "code",
   "execution_count": 1,
   "id": "6bcd87f7-e375-45e6-a460-4c9b261a97d5",
   "metadata": {},
   "outputs": [],
   "source": [
    "# strings - additional problems"
   ]
  },
  {
   "cell_type": "code",
   "execution_count": 2,
   "id": "d10015a7-9d26-4555-a834-94e82431459f",
   "metadata": {},
   "outputs": [
    {
     "name": "stdout",
     "output_type": "stream",
     "text": [
      "hello world\n"
     ]
    }
   ],
   "source": [
    "s1 = \"hello world\"\n",
    "print(s1)"
   ]
  },
  {
   "cell_type": "code",
   "execution_count": 3,
   "id": "7bf0bbbd-9af4-4c35-b1ad-d2470169f31d",
   "metadata": {},
   "outputs": [
    {
     "name": "stdin",
     "output_type": "stream",
     "text": [
      "Enter the string :  AniketManojShinde\n"
     ]
    },
    {
     "name": "stdout",
     "output_type": "stream",
     "text": [
      "The length of string s is :  17\n"
     ]
    }
   ],
   "source": [
    "# length of the given string without using len()\n",
    "\n",
    "s = input(\"Enter the string : \")\n",
    "count=0\n",
    "\n",
    "for i in s:\n",
    "    count = count+1\n",
    "print(\"The length of string s is : \",count)\n"
   ]
  },
  {
   "cell_type": "code",
   "execution_count": 4,
   "id": "3d792f98-9a54-48fc-97d7-f6cf632c78bd",
   "metadata": {},
   "outputs": [
    {
     "name": "stdin",
     "output_type": "stream",
     "text": [
      "Enter your email :  aniketshinde910@gmail.com\n"
     ]
    },
    {
     "name": "stdout",
     "output_type": "stream",
     "text": [
      "<class 'str'>\n",
      "aniketshinde910\n"
     ]
    }
   ],
   "source": [
    "# email to name without domain \n",
    "\n",
    "email = input(\"Enter your email : \")\n",
    "print(type(email))\n",
    "\n",
    "pos = email.index(\"@\")\n",
    "\n",
    "print(email[0:pos])\n"
   ]
  },
  {
   "cell_type": "code",
   "execution_count": 5,
   "id": "a42c5cd4-9430-428a-9bfb-09df2bebbbbd",
   "metadata": {},
   "outputs": [
    {
     "name": "stdout",
     "output_type": "stream",
     "text": [
      "The following character is repeated 2 times\n",
      "Second way to count - number of o used is :  2\n"
     ]
    }
   ],
   "source": [
    "# To count the frequency of character in a string\n",
    "\n",
    "str1 = \"hello world\"\n",
    "print(\"The following character is repeated\",str1.count(\"o\"),\"times\")\n",
    "term = \"o\"\n",
    "count = 0\n",
    "\n",
    "for i in str1:\n",
    "    if i == term:\n",
    "        count = count + 1\n",
    "    else:\n",
    "        pass\n",
    "print(\"Second way to count - number of\",term,\"used is : \",count)\n"
   ]
  },
  {
   "cell_type": "code",
   "execution_count": 6,
   "id": "c8da028c-b9bd-40b4-87ab-69b78957f2ce",
   "metadata": {},
   "outputs": [
    {
     "name": "stdin",
     "output_type": "stream",
     "text": [
      "Enter the string :  aniketshinde910@gmail.com\n"
     ]
    },
    {
     "name": "stdout",
     "output_type": "stream",
     "text": [
      "String without term @ is :  aniketshinde910gmail.com\n"
     ]
    }
   ],
   "source": [
    "# To remove a char from the string\n",
    "\n",
    "str2 = input(\"Enter the string : \")\n",
    "rem_term = \"@\"\n",
    "name = \"\"\n",
    "\n",
    "for i in str2:\n",
    "    if i != rem_term:\n",
    "        name = name + i\n",
    "    else:\n",
    "        continue\n",
    "print(\"String without term\",rem_term,\"is : \",name)\n"
   ]
  },
  {
   "cell_type": "code",
   "execution_count": 31,
   "id": "3277b4f8-12a4-43ee-9449-78348f332742",
   "metadata": {},
   "outputs": [
    {
     "name": "stdin",
     "output_type": "stream",
     "text": [
      "Enter the string :  rotvaetor\n"
     ]
    },
    {
     "name": "stdout",
     "output_type": "stream",
     "text": [
      "rotva\n",
      "etor\n",
      "rotvaetor\n",
      "The given string rotvaetor is a Palindrome\n"
     ]
    }
   ],
   "source": [
    "# To check Palindrome or not\n",
    "\n",
    "string1 = input(\"Enter the string : \")\n",
    "length = (len(string1))\n",
    "\n",
    "if (length % 2) == 0:\n",
    "    half_even_len = int((len(string1))/2)\n",
    "    print(half_even_len)\n",
    "    \n",
    "    half_even = string1[:half_even_len]\n",
    "    print(half_even)\n",
    "\n",
    "    rev_even = half_even[::]\n",
    "    print(rev_even)\n",
    "    \n",
    "    if (str(half_even) == str(rev_even)):\n",
    "        print(\"The given string\",string1,\"is Palindrome\")\n",
    "        \n",
    "else:\n",
    "    half_odd = int(len(string1)/2)  # 2\n",
    "    more_half = int(half_odd + 1)  # 3\n",
    "    one_half = string1[:more_half:]\n",
    "    print(one_half)\n",
    "\n",
    "    second_half = string1[more_half::] \n",
    "    print(second_half)\n",
    "\n",
    "    comp = \n",
    "\n",
    "    if (full_odd == string1):\n",
    "        print(\"The given string\",string1,\"is a Palindrome\")\n",
    "    else:\n",
    "        print(\"The given string\",string1,\"is NOT a Palindrome\")\n",
    "\n",
    "    \n",
    "\n",
    "\n",
    "\n",
    "\n"
   ]
  },
  {
   "cell_type": "code",
   "execution_count": 3,
   "id": "f40c7c18-a1c3-401e-b6af-a6f3b5b32e48",
   "metadata": {},
   "outputs": [
    {
     "name": "stdin",
     "output_type": "stream",
     "text": [
      "Enter the word :  abba\n"
     ]
    },
    {
     "name": "stdout",
     "output_type": "stream",
     "text": [
      "Its a palindrome!\n"
     ]
    }
   ],
   "source": [
    "# EASY Palindrome\n",
    "\n",
    "x = input(\"Enter the word : \")\n",
    "y = x[::-1]\n",
    "\n",
    "if x == y:\n",
    "    print(\"Its a palindrome!\")\n",
    "else:\n",
    "    print(\"Its not a palindrome...\")"
   ]
  },
  {
   "cell_type": "code",
   "execution_count": 4,
   "id": "cc36020f-c2f8-48e5-aa4d-d4a0cff3fcb0",
   "metadata": {},
   "outputs": [
    {
     "name": "stdout",
     "output_type": "stream",
     "text": [
      "The letters in the list are as follows :\n",
      " ['H', 'e', 'y', 'A', 'n', 'i', 'k', 'e', 't', 'M', 'a', 'n', 'o', 'j', 'S', 'h', 'i', 'n', 'd', 'e']\n",
      "The total number of letters in the string are : 20\n",
      "The total number of spaces in the string are : 3\n",
      "The total number of characters in the string are : 23\n"
     ]
    }
   ],
   "source": [
    "# To count character in a string\n",
    "\n",
    "str1 = \"Hey Aniket Manoj Shinde\"\n",
    "count_char = 0\n",
    "count_space = 0\n",
    "collect_char = []\n",
    "collect_space = []\n",
    "\n",
    "for i in str1:\n",
    "    if i != \" \":\n",
    "        collect_char.append(i)\n",
    "        count_char = count_char + 1\n",
    "    else:\n",
    "        collect_space.append(i)\n",
    "        count_space = count_space + 1\n",
    "    \n",
    "print(\"The letters in the list are as follows :\\n\", collect_char)\n",
    "print(\"The total number of letters in the string are :\", len(collect_char))\n",
    "print(\"The total number of spaces in the string are :\", len(collect_space))\n",
    "print(\"The total number of characters in the string are :\", len(collect_char) + len(collect_space))\n"
   ]
  },
  {
   "cell_type": "code",
   "execution_count": null,
   "id": "abd31558-d308-4013-9026-4a3c78fad8dd",
   "metadata": {},
   "outputs": [],
   "source": []
  }
 ],
 "metadata": {
  "kernelspec": {
   "display_name": "Python 3 (ipykernel)",
   "language": "python",
   "name": "python3"
  },
  "language_info": {
   "codemirror_mode": {
    "name": "ipython",
    "version": 3
   },
   "file_extension": ".py",
   "mimetype": "text/x-python",
   "name": "python",
   "nbconvert_exporter": "python",
   "pygments_lexer": "ipython3",
   "version": "3.10.8"
  }
 },
 "nbformat": 4,
 "nbformat_minor": 5
}
